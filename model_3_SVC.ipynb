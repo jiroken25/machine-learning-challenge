{
 "cells": [
  {
   "cell_type": "code",
   "execution_count": 1,
   "metadata": {},
   "outputs": [
    {
     "output_type": "stream",
     "name": "stdout",
     "text": [
      "Collecting sklearn\n  Downloading sklearn-0.0.tar.gz (1.1 kB)\nRequirement already satisfied, skipping upgrade: scikit-learn in c:\\users\\khiro\\anaconda3\\envs\\pythonadv\\lib\\site-packages (from sklearn) (0.23.2)\nRequirement already satisfied, skipping upgrade: scipy>=0.19.1 in c:\\users\\khiro\\anaconda3\\envs\\pythonadv\\lib\\site-packages (from scikit-learn->sklearn) (1.5.2)\nRequirement already satisfied, skipping upgrade: numpy>=1.13.3 in c:\\users\\khiro\\anaconda3\\envs\\pythonadv\\lib\\site-packages (from scikit-learn->sklearn) (1.19.1)\nRequirement already satisfied, skipping upgrade: joblib>=0.11 in c:\\users\\khiro\\anaconda3\\envs\\pythonadv\\lib\\site-packages (from scikit-learn->sklearn) (0.17.0)\nRequirement already satisfied, skipping upgrade: threadpoolctl>=2.0.0 in c:\\users\\khiro\\anaconda3\\envs\\pythonadv\\lib\\site-packages (from scikit-learn->sklearn) (2.1.0)\nBuilding wheels for collected packages: sklearn\n  Building wheel for sklearn (setup.py): started\n  Building wheel for sklearn (setup.py): finished with status 'done'\n  Created wheel for sklearn: filename=sklearn-0.0-py2.py3-none-any.whl size=1321 sha256=7645a49da1ba55af14da6f62ead27944a4d62368634eeb491de88761b7950b2a\n  Stored in directory: c:\\users\\khiro\\appdata\\local\\pip\\cache\\wheels\\23\\9d\\42\\5ec745cbbb17517000a53cecc49d6a865450d1f5cb16dc8a9c\nSuccessfully built sklearn\nInstalling collected packages: sklearn\nSuccessfully installed sklearn-0.0\n"
     ]
    }
   ],
   "source": [
    "# Update sklearn to prevent version mismatches\n",
    "!pip install sklearn --upgrade"
   ]
  },
  {
   "cell_type": "code",
   "execution_count": 4,
   "metadata": {},
   "outputs": [
    {
     "output_type": "stream",
     "name": "stdout",
     "text": [
      "Requirement already satisfied: joblib in c:\\users\\khiro\\anaconda3\\envs\\pythonadv\\lib\\site-packages (0.17.0)\n"
     ]
    }
   ],
   "source": [
    "# install joblib. This will be used to save your model. \n",
    "# Restart your kernel after installing \n",
    "!pip install joblib"
   ]
  },
  {
   "cell_type": "code",
   "execution_count": 1,
   "metadata": {},
   "outputs": [],
   "source": [
    "import pandas as pd"
   ]
  },
  {
   "cell_type": "markdown",
   "metadata": {},
   "source": [
    "# Read the CSV and Perform Basic Data Cleaning"
   ]
  },
  {
   "cell_type": "code",
   "execution_count": 2,
   "metadata": {},
   "outputs": [
    {
     "output_type": "execute_result",
     "data": {
      "text/plain": [
       "       koi_fpflag_nt  koi_fpflag_ss  koi_fpflag_co  koi_fpflag_ec  \\\n",
       "count    6991.000000    6991.000000    6991.000000    6991.000000   \n",
       "mean        0.157059       0.244743       0.202975       0.125018   \n",
       "std         0.363882       0.429966       0.402243       0.330763   \n",
       "min         0.000000       0.000000       0.000000       0.000000   \n",
       "25%         0.000000       0.000000       0.000000       0.000000   \n",
       "50%         0.000000       0.000000       0.000000       0.000000   \n",
       "75%         0.000000       0.000000       0.000000       0.000000   \n",
       "max         1.000000       1.000000       1.000000       1.000000   \n",
       "\n",
       "        koi_period  koi_period_err1  koi_period_err2  koi_time0bk  \\\n",
       "count  6991.000000     6.991000e+03     6.991000e+03  6991.000000   \n",
       "mean     56.191248     1.851122e-03    -1.851122e-03   164.488820   \n",
       "std     117.570962     7.184503e-03     7.184503e-03    67.020475   \n",
       "min       0.259820     1.100000e-08    -1.568000e-01   120.515914   \n",
       "25%       2.620126     5.005000e-06    -2.401000e-04   132.683917   \n",
       "50%       8.947426     3.300000e-05    -3.300000e-05   136.739230   \n",
       "75%      34.282605     2.401000e-04    -5.005000e-06   169.937005   \n",
       "max    1071.232624     1.568000e-01    -1.100000e-08  1472.522306   \n",
       "\n",
       "       koi_time0bk_err1  koi_time0bk_err2  ...  koi_steff_err2    koi_slogg  \\\n",
       "count       6991.000000       6991.000000  ...     6991.000000  6991.000000   \n",
       "mean           0.009340         -0.009340  ...     -161.206980     4.305049   \n",
       "std            0.021989          0.021989  ...       71.448481     0.439238   \n",
       "min            0.000009         -0.569000  ...    -1733.000000     0.047000   \n",
       "25%            0.001145         -0.010000  ...     -197.000000     4.209000   \n",
       "50%            0.003990         -0.003990  ...     -159.000000     4.436000   \n",
       "75%            0.010000         -0.001145  ...     -112.000000     4.543000   \n",
       "max            0.569000         -0.000009  ...        0.000000     5.364000   \n",
       "\n",
       "       koi_slogg_err1  koi_slogg_err2     koi_srad  koi_srad_err1  \\\n",
       "count     6991.000000      6991.00000  6991.000000    6991.000000   \n",
       "mean         0.121091        -0.14048     1.740749       0.352710   \n",
       "std          0.132048         0.08199     5.903415       0.839017   \n",
       "min          0.000000        -1.00700     0.109000       0.000000   \n",
       "25%          0.044000        -0.19500     0.829000       0.128000   \n",
       "50%          0.070000        -0.12700     0.999000       0.248000   \n",
       "75%          0.149000        -0.08800     1.357000       0.357000   \n",
       "max          1.472000         0.00000   180.013000      25.956000   \n",
       "\n",
       "       koi_srad_err2           ra          dec   koi_kepmag  \n",
       "count    6991.000000  6991.000000  6991.000000  6991.000000  \n",
       "mean       -0.388568   292.082406    43.812143    14.271508  \n",
       "std         1.907797     4.762908     3.606167     1.350802  \n",
       "min      -103.825000   279.856080    36.577381     6.966000  \n",
       "25%        -0.252000   288.704730    40.797760    13.455000  \n",
       "50%        -0.111000   292.314760    43.679661    14.534000  \n",
       "75%        -0.069000   295.888550    46.693659    15.322000  \n",
       "max         0.000000   301.720760    52.336010    19.065000  \n",
       "\n",
       "[8 rows x 40 columns]"
      ],
      "text/html": "<div>\n<style scoped>\n    .dataframe tbody tr th:only-of-type {\n        vertical-align: middle;\n    }\n\n    .dataframe tbody tr th {\n        vertical-align: top;\n    }\n\n    .dataframe thead th {\n        text-align: right;\n    }\n</style>\n<table border=\"1\" class=\"dataframe\">\n  <thead>\n    <tr style=\"text-align: right;\">\n      <th></th>\n      <th>koi_fpflag_nt</th>\n      <th>koi_fpflag_ss</th>\n      <th>koi_fpflag_co</th>\n      <th>koi_fpflag_ec</th>\n      <th>koi_period</th>\n      <th>koi_period_err1</th>\n      <th>koi_period_err2</th>\n      <th>koi_time0bk</th>\n      <th>koi_time0bk_err1</th>\n      <th>koi_time0bk_err2</th>\n      <th>...</th>\n      <th>koi_steff_err2</th>\n      <th>koi_slogg</th>\n      <th>koi_slogg_err1</th>\n      <th>koi_slogg_err2</th>\n      <th>koi_srad</th>\n      <th>koi_srad_err1</th>\n      <th>koi_srad_err2</th>\n      <th>ra</th>\n      <th>dec</th>\n      <th>koi_kepmag</th>\n    </tr>\n  </thead>\n  <tbody>\n    <tr>\n      <th>count</th>\n      <td>6991.000000</td>\n      <td>6991.000000</td>\n      <td>6991.000000</td>\n      <td>6991.000000</td>\n      <td>6991.000000</td>\n      <td>6.991000e+03</td>\n      <td>6.991000e+03</td>\n      <td>6991.000000</td>\n      <td>6991.000000</td>\n      <td>6991.000000</td>\n      <td>...</td>\n      <td>6991.000000</td>\n      <td>6991.000000</td>\n      <td>6991.000000</td>\n      <td>6991.00000</td>\n      <td>6991.000000</td>\n      <td>6991.000000</td>\n      <td>6991.000000</td>\n      <td>6991.000000</td>\n      <td>6991.000000</td>\n      <td>6991.000000</td>\n    </tr>\n    <tr>\n      <th>mean</th>\n      <td>0.157059</td>\n      <td>0.244743</td>\n      <td>0.202975</td>\n      <td>0.125018</td>\n      <td>56.191248</td>\n      <td>1.851122e-03</td>\n      <td>-1.851122e-03</td>\n      <td>164.488820</td>\n      <td>0.009340</td>\n      <td>-0.009340</td>\n      <td>...</td>\n      <td>-161.206980</td>\n      <td>4.305049</td>\n      <td>0.121091</td>\n      <td>-0.14048</td>\n      <td>1.740749</td>\n      <td>0.352710</td>\n      <td>-0.388568</td>\n      <td>292.082406</td>\n      <td>43.812143</td>\n      <td>14.271508</td>\n    </tr>\n    <tr>\n      <th>std</th>\n      <td>0.363882</td>\n      <td>0.429966</td>\n      <td>0.402243</td>\n      <td>0.330763</td>\n      <td>117.570962</td>\n      <td>7.184503e-03</td>\n      <td>7.184503e-03</td>\n      <td>67.020475</td>\n      <td>0.021989</td>\n      <td>0.021989</td>\n      <td>...</td>\n      <td>71.448481</td>\n      <td>0.439238</td>\n      <td>0.132048</td>\n      <td>0.08199</td>\n      <td>5.903415</td>\n      <td>0.839017</td>\n      <td>1.907797</td>\n      <td>4.762908</td>\n      <td>3.606167</td>\n      <td>1.350802</td>\n    </tr>\n    <tr>\n      <th>min</th>\n      <td>0.000000</td>\n      <td>0.000000</td>\n      <td>0.000000</td>\n      <td>0.000000</td>\n      <td>0.259820</td>\n      <td>1.100000e-08</td>\n      <td>-1.568000e-01</td>\n      <td>120.515914</td>\n      <td>0.000009</td>\n      <td>-0.569000</td>\n      <td>...</td>\n      <td>-1733.000000</td>\n      <td>0.047000</td>\n      <td>0.000000</td>\n      <td>-1.00700</td>\n      <td>0.109000</td>\n      <td>0.000000</td>\n      <td>-103.825000</td>\n      <td>279.856080</td>\n      <td>36.577381</td>\n      <td>6.966000</td>\n    </tr>\n    <tr>\n      <th>25%</th>\n      <td>0.000000</td>\n      <td>0.000000</td>\n      <td>0.000000</td>\n      <td>0.000000</td>\n      <td>2.620126</td>\n      <td>5.005000e-06</td>\n      <td>-2.401000e-04</td>\n      <td>132.683917</td>\n      <td>0.001145</td>\n      <td>-0.010000</td>\n      <td>...</td>\n      <td>-197.000000</td>\n      <td>4.209000</td>\n      <td>0.044000</td>\n      <td>-0.19500</td>\n      <td>0.829000</td>\n      <td>0.128000</td>\n      <td>-0.252000</td>\n      <td>288.704730</td>\n      <td>40.797760</td>\n      <td>13.455000</td>\n    </tr>\n    <tr>\n      <th>50%</th>\n      <td>0.000000</td>\n      <td>0.000000</td>\n      <td>0.000000</td>\n      <td>0.000000</td>\n      <td>8.947426</td>\n      <td>3.300000e-05</td>\n      <td>-3.300000e-05</td>\n      <td>136.739230</td>\n      <td>0.003990</td>\n      <td>-0.003990</td>\n      <td>...</td>\n      <td>-159.000000</td>\n      <td>4.436000</td>\n      <td>0.070000</td>\n      <td>-0.12700</td>\n      <td>0.999000</td>\n      <td>0.248000</td>\n      <td>-0.111000</td>\n      <td>292.314760</td>\n      <td>43.679661</td>\n      <td>14.534000</td>\n    </tr>\n    <tr>\n      <th>75%</th>\n      <td>0.000000</td>\n      <td>0.000000</td>\n      <td>0.000000</td>\n      <td>0.000000</td>\n      <td>34.282605</td>\n      <td>2.401000e-04</td>\n      <td>-5.005000e-06</td>\n      <td>169.937005</td>\n      <td>0.010000</td>\n      <td>-0.001145</td>\n      <td>...</td>\n      <td>-112.000000</td>\n      <td>4.543000</td>\n      <td>0.149000</td>\n      <td>-0.08800</td>\n      <td>1.357000</td>\n      <td>0.357000</td>\n      <td>-0.069000</td>\n      <td>295.888550</td>\n      <td>46.693659</td>\n      <td>15.322000</td>\n    </tr>\n    <tr>\n      <th>max</th>\n      <td>1.000000</td>\n      <td>1.000000</td>\n      <td>1.000000</td>\n      <td>1.000000</td>\n      <td>1071.232624</td>\n      <td>1.568000e-01</td>\n      <td>-1.100000e-08</td>\n      <td>1472.522306</td>\n      <td>0.569000</td>\n      <td>-0.000009</td>\n      <td>...</td>\n      <td>0.000000</td>\n      <td>5.364000</td>\n      <td>1.472000</td>\n      <td>0.00000</td>\n      <td>180.013000</td>\n      <td>25.956000</td>\n      <td>0.000000</td>\n      <td>301.720760</td>\n      <td>52.336010</td>\n      <td>19.065000</td>\n    </tr>\n  </tbody>\n</table>\n<p>8 rows × 40 columns</p>\n</div>"
     },
     "metadata": {},
     "execution_count": 2
    }
   ],
   "source": [
    "df = pd.read_csv(\"exoplanet_data.csv\")\n",
    "# Drop the null columns where all values are null\n",
    "df = df.dropna(axis='columns', how='all')\n",
    "# Drop the null rows\n",
    "df = df.dropna()\n",
    "df.describe()"
   ]
  },
  {
   "cell_type": "markdown",
   "metadata": {},
   "source": [
    "# Select your features (columns)"
   ]
  },
  {
   "cell_type": "code",
   "execution_count": 3,
   "metadata": {},
   "outputs": [
    {
     "output_type": "execute_result",
     "data": {
      "text/plain": [
       "      koi_period  koi_time0bk  koi_impact  koi_duration  koi_depth  koi_prad  \\\n",
       "0      54.418383   162.513840       0.586       4.50700      874.8      2.83   \n",
       "1      19.899140   175.850252       0.969       1.78220    10829.0     14.60   \n",
       "2       1.736952   170.307565       1.276       2.40641     8079.2     33.46   \n",
       "3       2.525592   171.595550       0.701       1.65450      603.3      2.75   \n",
       "4       4.134435   172.979370       0.762       3.14020      686.0      2.77   \n",
       "...          ...          ...         ...           ...        ...       ...   \n",
       "6986    8.589871   132.016100       0.765       4.80600       87.7      1.11   \n",
       "6987    0.527699   131.705093       1.252       3.22210     1579.2     29.35   \n",
       "6988    1.739849   133.001270       0.043       3.11400       48.5      0.72   \n",
       "6989    0.681402   132.181750       0.147       0.86500      103.6      1.07   \n",
       "6990    4.856035   135.993300       0.134       3.07800       76.7      1.05   \n",
       "\n",
       "      koi_teq  koi_insol  koi_model_snr  koi_tce_plnt_num  koi_srad  \n",
       "0         443       9.11           25.8                 2     0.927  \n",
       "1         638      39.30           76.3                 1     0.868  \n",
       "2        1395     891.96          505.6                 1     0.791  \n",
       "3        1406     926.16           40.9                 1     1.046  \n",
       "4        1160     427.65           40.2                 2     0.972  \n",
       "...       ...        ...            ...               ...       ...  \n",
       "6986      929     176.40            8.4                 1     1.088  \n",
       "6987     2088    4500.53          453.3                 1     0.903  \n",
       "6988     1608    1585.81           10.6                 1     1.031  \n",
       "6989     2218    5713.41           12.3                 1     1.041  \n",
       "6990     1266     607.42            8.2                 1     1.193  \n",
       "\n",
       "[6991 rows x 11 columns]"
      ],
      "text/html": "<div>\n<style scoped>\n    .dataframe tbody tr th:only-of-type {\n        vertical-align: middle;\n    }\n\n    .dataframe tbody tr th {\n        vertical-align: top;\n    }\n\n    .dataframe thead th {\n        text-align: right;\n    }\n</style>\n<table border=\"1\" class=\"dataframe\">\n  <thead>\n    <tr style=\"text-align: right;\">\n      <th></th>\n      <th>koi_period</th>\n      <th>koi_time0bk</th>\n      <th>koi_impact</th>\n      <th>koi_duration</th>\n      <th>koi_depth</th>\n      <th>koi_prad</th>\n      <th>koi_teq</th>\n      <th>koi_insol</th>\n      <th>koi_model_snr</th>\n      <th>koi_tce_plnt_num</th>\n      <th>koi_srad</th>\n    </tr>\n  </thead>\n  <tbody>\n    <tr>\n      <th>0</th>\n      <td>54.418383</td>\n      <td>162.513840</td>\n      <td>0.586</td>\n      <td>4.50700</td>\n      <td>874.8</td>\n      <td>2.83</td>\n      <td>443</td>\n      <td>9.11</td>\n      <td>25.8</td>\n      <td>2</td>\n      <td>0.927</td>\n    </tr>\n    <tr>\n      <th>1</th>\n      <td>19.899140</td>\n      <td>175.850252</td>\n      <td>0.969</td>\n      <td>1.78220</td>\n      <td>10829.0</td>\n      <td>14.60</td>\n      <td>638</td>\n      <td>39.30</td>\n      <td>76.3</td>\n      <td>1</td>\n      <td>0.868</td>\n    </tr>\n    <tr>\n      <th>2</th>\n      <td>1.736952</td>\n      <td>170.307565</td>\n      <td>1.276</td>\n      <td>2.40641</td>\n      <td>8079.2</td>\n      <td>33.46</td>\n      <td>1395</td>\n      <td>891.96</td>\n      <td>505.6</td>\n      <td>1</td>\n      <td>0.791</td>\n    </tr>\n    <tr>\n      <th>3</th>\n      <td>2.525592</td>\n      <td>171.595550</td>\n      <td>0.701</td>\n      <td>1.65450</td>\n      <td>603.3</td>\n      <td>2.75</td>\n      <td>1406</td>\n      <td>926.16</td>\n      <td>40.9</td>\n      <td>1</td>\n      <td>1.046</td>\n    </tr>\n    <tr>\n      <th>4</th>\n      <td>4.134435</td>\n      <td>172.979370</td>\n      <td>0.762</td>\n      <td>3.14020</td>\n      <td>686.0</td>\n      <td>2.77</td>\n      <td>1160</td>\n      <td>427.65</td>\n      <td>40.2</td>\n      <td>2</td>\n      <td>0.972</td>\n    </tr>\n    <tr>\n      <th>...</th>\n      <td>...</td>\n      <td>...</td>\n      <td>...</td>\n      <td>...</td>\n      <td>...</td>\n      <td>...</td>\n      <td>...</td>\n      <td>...</td>\n      <td>...</td>\n      <td>...</td>\n      <td>...</td>\n    </tr>\n    <tr>\n      <th>6986</th>\n      <td>8.589871</td>\n      <td>132.016100</td>\n      <td>0.765</td>\n      <td>4.80600</td>\n      <td>87.7</td>\n      <td>1.11</td>\n      <td>929</td>\n      <td>176.40</td>\n      <td>8.4</td>\n      <td>1</td>\n      <td>1.088</td>\n    </tr>\n    <tr>\n      <th>6987</th>\n      <td>0.527699</td>\n      <td>131.705093</td>\n      <td>1.252</td>\n      <td>3.22210</td>\n      <td>1579.2</td>\n      <td>29.35</td>\n      <td>2088</td>\n      <td>4500.53</td>\n      <td>453.3</td>\n      <td>1</td>\n      <td>0.903</td>\n    </tr>\n    <tr>\n      <th>6988</th>\n      <td>1.739849</td>\n      <td>133.001270</td>\n      <td>0.043</td>\n      <td>3.11400</td>\n      <td>48.5</td>\n      <td>0.72</td>\n      <td>1608</td>\n      <td>1585.81</td>\n      <td>10.6</td>\n      <td>1</td>\n      <td>1.031</td>\n    </tr>\n    <tr>\n      <th>6989</th>\n      <td>0.681402</td>\n      <td>132.181750</td>\n      <td>0.147</td>\n      <td>0.86500</td>\n      <td>103.6</td>\n      <td>1.07</td>\n      <td>2218</td>\n      <td>5713.41</td>\n      <td>12.3</td>\n      <td>1</td>\n      <td>1.041</td>\n    </tr>\n    <tr>\n      <th>6990</th>\n      <td>4.856035</td>\n      <td>135.993300</td>\n      <td>0.134</td>\n      <td>3.07800</td>\n      <td>76.7</td>\n      <td>1.05</td>\n      <td>1266</td>\n      <td>607.42</td>\n      <td>8.2</td>\n      <td>1</td>\n      <td>1.193</td>\n    </tr>\n  </tbody>\n</table>\n<p>6991 rows × 11 columns</p>\n</div>"
     },
     "metadata": {},
     "execution_count": 3
    }
   ],
   "source": [
    "# Set features. This will also be used as your x values.\n",
    "selected_features = df[['koi_period','koi_time0bk','koi_impact','koi_duration','koi_depth','koi_prad','koi_teq','koi_insol','koi_model_snr','koi_tce_plnt_num','koi_srad']]\n",
    "\n",
    "#df[['koi_period','koi_time0bk','koi_impact','koi_duration','koi_depth','koi_prad','koi_teq','koi_insol','koi_model_snr','koi_tce_plnt_num','koi_steff','koi_slogg','koi_srad','ra','dec','koi_kepmag']]\n",
    "selected_features"
   ]
  },
  {
   "cell_type": "markdown",
   "metadata": {},
   "source": [
    "# Create a Train Test Split\n",
    "\n",
    "Use `koi_disposition` for the y values"
   ]
  },
  {
   "cell_type": "code",
   "execution_count": 4,
   "metadata": {},
   "outputs": [],
   "source": [
    "X = selected_features\n",
    "y = df[\"koi_disposition\"]\n"
   ]
  },
  {
   "cell_type": "code",
   "execution_count": 5,
   "metadata": {},
   "outputs": [],
   "source": [
    "from sklearn.model_selection import train_test_split\n",
    "from sklearn.preprocessing import LabelEncoder, MinMaxScaler\n"
   ]
  },
  {
   "cell_type": "code",
   "execution_count": 6,
   "metadata": {},
   "outputs": [],
   "source": [
    "X_train, X_test, y_train, y_test = train_test_split(\n",
    "    X, y, random_state=1)"
   ]
  },
  {
   "cell_type": "code",
   "execution_count": 7,
   "metadata": {},
   "outputs": [
    {
     "output_type": "execute_result",
     "data": {
      "text/plain": [
       "      koi_period  koi_time0bk  koi_impact  koi_duration  koi_depth  koi_prad  \\\n",
       "3563   10.548413   139.064020      1.0170        1.8720      102.9      3.89   \n",
       "4099   24.754385   140.207320      0.7090        3.3900      593.3      2.10   \n",
       "5460    1.057336   131.792007      0.2620        1.5795    47337.0     14.59   \n",
       "1091  201.118319   187.569860      0.0010       10.3280      584.8      2.28   \n",
       "5999   91.649983   175.715600      0.2136       10.2940      193.6      2.27   \n",
       "\n",
       "      koi_teq  koi_insol  koi_model_snr  koi_tce_plnt_num  koi_srad  \n",
       "3563      899     154.84           11.7                 2     1.092  \n",
       "4099      491      13.70           18.0                 1     0.804  \n",
       "5460     1276     623.51          476.0                 1     0.683  \n",
       "1091      300       1.92           34.7                 1     0.954  \n",
       "5999      568      24.57            8.7                 2     1.608  "
      ],
      "text/html": "<div>\n<style scoped>\n    .dataframe tbody tr th:only-of-type {\n        vertical-align: middle;\n    }\n\n    .dataframe tbody tr th {\n        vertical-align: top;\n    }\n\n    .dataframe thead th {\n        text-align: right;\n    }\n</style>\n<table border=\"1\" class=\"dataframe\">\n  <thead>\n    <tr style=\"text-align: right;\">\n      <th></th>\n      <th>koi_period</th>\n      <th>koi_time0bk</th>\n      <th>koi_impact</th>\n      <th>koi_duration</th>\n      <th>koi_depth</th>\n      <th>koi_prad</th>\n      <th>koi_teq</th>\n      <th>koi_insol</th>\n      <th>koi_model_snr</th>\n      <th>koi_tce_plnt_num</th>\n      <th>koi_srad</th>\n    </tr>\n  </thead>\n  <tbody>\n    <tr>\n      <th>3563</th>\n      <td>10.548413</td>\n      <td>139.064020</td>\n      <td>1.0170</td>\n      <td>1.8720</td>\n      <td>102.9</td>\n      <td>3.89</td>\n      <td>899</td>\n      <td>154.84</td>\n      <td>11.7</td>\n      <td>2</td>\n      <td>1.092</td>\n    </tr>\n    <tr>\n      <th>4099</th>\n      <td>24.754385</td>\n      <td>140.207320</td>\n      <td>0.7090</td>\n      <td>3.3900</td>\n      <td>593.3</td>\n      <td>2.10</td>\n      <td>491</td>\n      <td>13.70</td>\n      <td>18.0</td>\n      <td>1</td>\n      <td>0.804</td>\n    </tr>\n    <tr>\n      <th>5460</th>\n      <td>1.057336</td>\n      <td>131.792007</td>\n      <td>0.2620</td>\n      <td>1.5795</td>\n      <td>47337.0</td>\n      <td>14.59</td>\n      <td>1276</td>\n      <td>623.51</td>\n      <td>476.0</td>\n      <td>1</td>\n      <td>0.683</td>\n    </tr>\n    <tr>\n      <th>1091</th>\n      <td>201.118319</td>\n      <td>187.569860</td>\n      <td>0.0010</td>\n      <td>10.3280</td>\n      <td>584.8</td>\n      <td>2.28</td>\n      <td>300</td>\n      <td>1.92</td>\n      <td>34.7</td>\n      <td>1</td>\n      <td>0.954</td>\n    </tr>\n    <tr>\n      <th>5999</th>\n      <td>91.649983</td>\n      <td>175.715600</td>\n      <td>0.2136</td>\n      <td>10.2940</td>\n      <td>193.6</td>\n      <td>2.27</td>\n      <td>568</td>\n      <td>24.57</td>\n      <td>8.7</td>\n      <td>2</td>\n      <td>1.608</td>\n    </tr>\n  </tbody>\n</table>\n</div>"
     },
     "metadata": {},
     "execution_count": 7
    }
   ],
   "source": [
    "X_train.head()"
   ]
  },
  {
   "cell_type": "markdown",
   "metadata": {},
   "source": [
    "# Pre-processing\n",
    "\n",
    "Scale the data using the MinMaxScaler and perform some feature selection"
   ]
  },
  {
   "cell_type": "code",
   "execution_count": 8,
   "metadata": {},
   "outputs": [],
   "source": [
    "# Scale your data\n",
    "X_scaler = MinMaxScaler().fit(X_train)\n",
    "X_train_scaled = X_scaler.transform(X_train)\n",
    "X_test_scaled = X_scaler.transform(X_test)"
   ]
  },
  {
   "cell_type": "code",
   "execution_count": 9,
   "metadata": {},
   "outputs": [
    {
     "output_type": "execute_result",
     "data": {
      "text/plain": [
       "array([0, 1, 0, ..., 2, 1, 1])"
      ]
     },
     "metadata": {},
     "execution_count": 9
    }
   ],
   "source": [
    "label_encoder = LabelEncoder()\n",
    "label_encoder.fit(y_train)\n",
    "encoded_y_train = label_encoder.transform(y_train)\n",
    "encoded_y_test = label_encoder.transform(y_test)\n",
    "\n",
    "encoded_y_train"
   ]
  },
  {
   "cell_type": "markdown",
   "metadata": {},
   "source": [
    "# Train the Model\n",
    "\n"
   ]
  },
  {
   "cell_type": "code",
   "execution_count": 10,
   "metadata": {},
   "outputs": [],
   "source": [
    "from sklearn.svm import SVC \n",
    "model = SVC(kernel='linear')\n"
   ]
  },
  {
   "cell_type": "markdown",
   "metadata": {},
   "source": [
    "# Hyperparameter Tuning\n",
    "\n",
    "Use `GridSearchCV` to tune the model's parameters"
   ]
  },
  {
   "cell_type": "code",
   "execution_count": null,
   "metadata": {},
   "outputs": [],
   "source": []
  },
  {
   "cell_type": "code",
   "execution_count": 11,
   "metadata": {},
   "outputs": [],
   "source": [
    "from sklearn.model_selection import GridSearchCV\n",
    "param_grid = {'C': [1000, 100, 10],\n",
    "              'gamma': [0.1, 0.01, 1]}\n",
    "grid = GridSearchCV(model, param_grid, verbose=3)\n"
   ]
  },
  {
   "cell_type": "code",
   "execution_count": 12,
   "metadata": {},
   "outputs": [
    {
     "output_type": "stream",
     "name": "stdout",
     "text": [
      "Fitting 5 folds for each of 9 candidates, totalling 45 fits\n",
      "[CV] C=1000, gamma=0.1 ...............................................\n",
      "[Parallel(n_jobs=1)]: Using backend SequentialBackend with 1 concurrent workers.\n",
      "[CV] ................... C=1000, gamma=0.1, score=0.632, total=   0.8s\n",
      "[CV] C=1000, gamma=0.1 ...............................................\n",
      "[Parallel(n_jobs=1)]: Done   1 out of   1 | elapsed:    0.7s remaining:    0.0s\n",
      "[CV] ................... C=1000, gamma=0.1, score=0.645, total=   0.7s\n",
      "[CV] C=1000, gamma=0.1 ...............................................\n",
      "[Parallel(n_jobs=1)]: Done   2 out of   2 | elapsed:    1.4s remaining:    0.0s\n",
      "[CV] ................... C=1000, gamma=0.1, score=0.645, total=   0.7s\n",
      "[CV] C=1000, gamma=0.1 ...............................................\n",
      "[CV] ................... C=1000, gamma=0.1, score=0.633, total=   0.7s\n",
      "[CV] C=1000, gamma=0.1 ...............................................\n",
      "[CV] ................... C=1000, gamma=0.1, score=0.622, total=   0.7s\n",
      "[CV] C=1000, gamma=0.01 ..............................................\n",
      "[CV] .................. C=1000, gamma=0.01, score=0.632, total=   0.8s\n",
      "[CV] C=1000, gamma=0.01 ..............................................\n",
      "[CV] .................. C=1000, gamma=0.01, score=0.645, total=   0.7s\n",
      "[CV] C=1000, gamma=0.01 ..............................................\n",
      "[CV] .................. C=1000, gamma=0.01, score=0.645, total=   0.7s\n",
      "[CV] C=1000, gamma=0.01 ..............................................\n",
      "[CV] .................. C=1000, gamma=0.01, score=0.633, total=   0.7s\n",
      "[CV] C=1000, gamma=0.01 ..............................................\n",
      "[CV] .................. C=1000, gamma=0.01, score=0.622, total=   0.8s\n",
      "[CV] C=1000, gamma=1 .................................................\n",
      "[CV] ..................... C=1000, gamma=1, score=0.632, total=   0.8s\n",
      "[CV] C=1000, gamma=1 .................................................\n",
      "[CV] ..................... C=1000, gamma=1, score=0.645, total=   0.7s\n",
      "[CV] C=1000, gamma=1 .................................................\n",
      "[CV] ..................... C=1000, gamma=1, score=0.645, total=   0.7s\n",
      "[CV] C=1000, gamma=1 .................................................\n",
      "[CV] ..................... C=1000, gamma=1, score=0.633, total=   0.7s\n",
      "[CV] C=1000, gamma=1 .................................................\n",
      "[CV] ..................... C=1000, gamma=1, score=0.622, total=   0.7s\n",
      "[CV] C=100, gamma=0.1 ................................................\n",
      "[CV] .................... C=100, gamma=0.1, score=0.626, total=   0.4s\n",
      "[CV] C=100, gamma=0.1 ................................................\n",
      "[CV] .................... C=100, gamma=0.1, score=0.634, total=   0.4s\n",
      "[CV] C=100, gamma=0.1 ................................................\n",
      "[CV] .................... C=100, gamma=0.1, score=0.643, total=   0.4s\n",
      "[CV] C=100, gamma=0.1 ................................................\n",
      "[CV] .................... C=100, gamma=0.1, score=0.623, total=   0.4s\n",
      "[CV] C=100, gamma=0.1 ................................................\n",
      "[CV] .................... C=100, gamma=0.1, score=0.613, total=   0.4s\n",
      "[CV] C=100, gamma=0.01 ...............................................\n",
      "[CV] ................... C=100, gamma=0.01, score=0.626, total=   0.4s\n",
      "[CV] C=100, gamma=0.01 ...............................................\n",
      "[CV] ................... C=100, gamma=0.01, score=0.634, total=   0.4s\n",
      "[CV] C=100, gamma=0.01 ...............................................\n",
      "[CV] ................... C=100, gamma=0.01, score=0.643, total=   0.4s\n",
      "[CV] C=100, gamma=0.01 ...............................................\n",
      "[CV] ................... C=100, gamma=0.01, score=0.623, total=   0.4s\n",
      "[CV] C=100, gamma=0.01 ...............................................\n",
      "[CV] ................... C=100, gamma=0.01, score=0.613, total=   0.4s\n",
      "[CV] C=100, gamma=1 ..................................................\n",
      "[CV] ...................... C=100, gamma=1, score=0.626, total=   0.4s\n",
      "[CV] C=100, gamma=1 ..................................................\n",
      "[CV] ...................... C=100, gamma=1, score=0.634, total=   0.4s\n",
      "[CV] C=100, gamma=1 ..................................................\n",
      "[CV] ...................... C=100, gamma=1, score=0.643, total=   0.4s\n",
      "[CV] C=100, gamma=1 ..................................................\n",
      "[CV] ...................... C=100, gamma=1, score=0.623, total=   0.4s\n",
      "[CV] C=100, gamma=1 ..................................................\n",
      "[CV] ...................... C=100, gamma=1, score=0.613, total=   0.4s\n",
      "[CV] C=10, gamma=0.1 .................................................\n",
      "[CV] ..................... C=10, gamma=0.1, score=0.605, total=   0.3s\n",
      "[CV] C=10, gamma=0.1 .................................................\n",
      "[CV] ..................... C=10, gamma=0.1, score=0.617, total=   0.3s\n",
      "[CV] C=10, gamma=0.1 .................................................\n",
      "[CV] ..................... C=10, gamma=0.1, score=0.621, total=   0.3s\n",
      "[CV] C=10, gamma=0.1 .................................................\n",
      "[CV] ..................... C=10, gamma=0.1, score=0.612, total=   0.3s\n",
      "[CV] C=10, gamma=0.1 .................................................\n",
      "[CV] ..................... C=10, gamma=0.1, score=0.603, total=   0.3s\n",
      "[CV] C=10, gamma=0.01 ................................................\n",
      "[CV] .................... C=10, gamma=0.01, score=0.605, total=   0.3s\n",
      "[CV] C=10, gamma=0.01 ................................................\n",
      "[CV] .................... C=10, gamma=0.01, score=0.617, total=   0.3s\n",
      "[CV] C=10, gamma=0.01 ................................................\n",
      "[CV] .................... C=10, gamma=0.01, score=0.621, total=   0.3s\n",
      "[CV] C=10, gamma=0.01 ................................................\n",
      "[CV] .................... C=10, gamma=0.01, score=0.612, total=   0.3s\n",
      "[CV] C=10, gamma=0.01 ................................................\n",
      "[CV] .................... C=10, gamma=0.01, score=0.603, total=   0.3s\n",
      "[CV] C=10, gamma=1 ...................................................\n",
      "[CV] ....................... C=10, gamma=1, score=0.605, total=   0.3s\n",
      "[CV] C=10, gamma=1 ...................................................\n",
      "[CV] ....................... C=10, gamma=1, score=0.617, total=   0.3s\n",
      "[CV] C=10, gamma=1 ...................................................\n",
      "[CV] ....................... C=10, gamma=1, score=0.621, total=   0.3s\n",
      "[CV] C=10, gamma=1 ...................................................\n",
      "[CV] ....................... C=10, gamma=1, score=0.612, total=   0.3s\n",
      "[CV] C=10, gamma=1 ...................................................\n",
      "[CV] ....................... C=10, gamma=1, score=0.603, total=   0.3s\n",
      "[Parallel(n_jobs=1)]: Done  45 out of  45 | elapsed:   21.6s finished\n"
     ]
    },
    {
     "output_type": "execute_result",
     "data": {
      "text/plain": [
       "GridSearchCV(estimator=SVC(kernel='linear'),\n",
       "             param_grid={'C': [1000, 100, 10], 'gamma': [0.1, 0.01, 1]},\n",
       "             verbose=3)"
      ]
     },
     "metadata": {},
     "execution_count": 12
    }
   ],
   "source": [
    "grid.fit(X_train_scaled, encoded_y_train)"
   ]
  },
  {
   "cell_type": "code",
   "execution_count": 13,
   "metadata": {},
   "outputs": [
    {
     "output_type": "stream",
     "name": "stdout",
     "text": [
      "{'C': 1000, 'gamma': 0.1}\n0.6355109191596504\n"
     ]
    }
   ],
   "source": [
    "print(grid.best_params_)\n",
    "print(grid.best_score_)"
   ]
  },
  {
   "cell_type": "markdown",
   "metadata": {},
   "source": [
    "# Save the Model"
   ]
  },
  {
   "cell_type": "code",
   "execution_count": 15,
   "metadata": {},
   "outputs": [
    {
     "output_type": "stream",
     "name": "stdout",
     "text": [
      "Test Acc: 0.636\n"
     ]
    }
   ],
   "source": [
    "model = SVC(kernel='linear', C=1000, gamma=0.1)\n",
    "model.fit(X_train_scaled, encoded_y_train)\n",
    "\n",
    "print('Test Acc: %.3f' % model.score(X_train_scaled, encoded_y_train))"
   ]
  },
  {
   "cell_type": "code",
   "execution_count": 16,
   "metadata": {},
   "outputs": [
    {
     "output_type": "execute_result",
     "data": {
      "text/plain": [
       "['SVC.sav']"
      ]
     },
     "metadata": {},
     "execution_count": 16
    }
   ],
   "source": [
    "# save your model by updating \"your_name\" with your name\n",
    "# and \"your_model\" with your model variable\n",
    "# be sure to turn this in to BCS\n",
    "# if joblib fails to import, try running the command to install in terminal/git-bash\n",
    "import joblib\n",
    "filename = 'SVC.sav'\n",
    "joblib.dump(model, filename)"
   ]
  },
  {
   "cell_type": "code",
   "execution_count": null,
   "metadata": {},
   "outputs": [],
   "source": []
  }
 ],
 "metadata": {
  "kernel_info": {
   "name": "dev"
  },
  "kernelspec": {
   "name": "Python 3.6.12 64-bit ('PythonAdv': conda)",
   "display_name": "Python 3.6.12 64-bit ('PythonAdv': conda)",
   "metadata": {
    "interpreter": {
     "hash": "5e207685675c0c9879c7abde09da513f62a22aa6d3ae831263542bc5ffcd8f2b"
    }
   }
  },
  "language_info": {
   "codemirror_mode": {
    "name": "ipython",
    "version": 3
   },
   "file_extension": ".py",
   "mimetype": "text/x-python",
   "name": "python",
   "nbconvert_exporter": "python",
   "pygments_lexer": "ipython3",
   "version": "3.6.12-final"
  },
  "nteract": {
   "version": "0.12.3"
  }
 },
 "nbformat": 4,
 "nbformat_minor": 2
}